{
  "nbformat": 4,
  "nbformat_minor": 0,
  "metadata": {
    "colab": {
      "name": "Tugas3_KomputasiKeuangan.ipynb",
      "provenance": [],
      "authorship_tag": "ABX9TyP0RVOzq5Wsc0r01BVIMkI9",
      "include_colab_link": true
    },
    "kernelspec": {
      "name": "python3",
      "display_name": "Python 3"
    },
    "language_info": {
      "name": "python"
    }
  },
  "cells": [
    {
      "cell_type": "markdown",
      "metadata": {
        "id": "view-in-github",
        "colab_type": "text"
      },
      "source": [
        "<a href=\"https://colab.research.google.com/github/kimimumemo/Computational-Finance-/blob/main/Call%20Option%20for%20American%20and%20European%20Type.ipynb\" target=\"_parent\"><img src=\"https://colab.research.google.com/assets/colab-badge.svg\" alt=\"Open In Colab\"/></a>"
      ]
    },
    {
      "cell_type": "code",
      "source": [
        "import numpy as np\n",
        "import pandas as pd\n",
        "import random\n",
        "import math\n",
        "import statistics\n",
        "import scipy\n",
        "import matplotlib.pyplot as plt\n",
        "from scipy.stats import norm"
      ],
      "metadata": {
        "id": "_pvXwSlDcJsP"
      },
      "execution_count": null,
      "outputs": []
    },
    {
      "cell_type": "code",
      "execution_count": null,
      "metadata": {
        "id": "fsAxui-xifZU"
      },
      "outputs": [],
      "source": [
        "# parameter\n",
        "s_0 = 100 # nilai awal\n",
        "X = 90 # strike price\n",
        "r = 0.06 # tingkat suku bunga bebas resiko\n",
        "sigma = 0.15 # volatilitas\n",
        "T = 1 # waktu jatuh tempo\n",
        "N = 5 # banyak selang waktu\n",
        "\n",
        "delta_t = T/N"
      ]
    },
    {
      "cell_type": "code",
      "source": [
        "u = np.exp(sigma*math.sqrt(delta_t))\n",
        "d = np.exp(-1*sigma*math.sqrt(delta_t))\n",
        "p = (np.exp(r*delta_t)-d)/(u-d)"
      ],
      "metadata": {
        "id": "aR4GyvK9c1as"
      },
      "execution_count": null,
      "outputs": []
    },
    {
      "cell_type": "code",
      "source": [
        "s_zeros = np.zeros((N+1,N+1))"
      ],
      "metadata": {
        "id": "lrSE_Lf6dVuE"
      },
      "execution_count": null,
      "outputs": []
    },
    {
      "cell_type": "code",
      "source": [
        "# mengalikan S0 dengan u dan d sesuai dengan urutan\n",
        "\n",
        "for i in range(0,N+1):\n",
        "  for j in range(0,N+1):\n",
        "    if i >= j:\n",
        "      s_zeros[i,j] += s_0*u**(i-j)*d**(j)"
      ],
      "metadata": {
        "id": "UPDus8K7emjP"
      },
      "execution_count": null,
      "outputs": []
    },
    {
      "cell_type": "code",
      "source": [
        "s_zeros"
      ],
      "metadata": {
        "colab": {
          "base_uri": "https://localhost:8080/"
        },
        "id": "N-kvKuHeeoS_",
        "outputId": "691e8d80-5435-4ccd-a68c-173550ac69a8"
      },
      "execution_count": null,
      "outputs": [
        {
          "output_type": "execute_result",
          "data": {
            "text/plain": [
              "array([[100.        ,   0.        ,   0.        ,   0.        ,\n",
              "          0.        ,   0.        ],\n",
              "       [106.93832061,  93.51184817,   0.        ,   0.        ,\n",
              "          0.        ,   0.        ],\n",
              "       [114.35804414, 100.        ,  87.44465748,   0.        ,\n",
              "          0.        ,   0.        ],\n",
              "       [122.29257188, 106.93832061,  93.51184817,  81.77111534,\n",
              "          0.        ,   0.        ],\n",
              "       [130.77762259, 114.35804414, 100.        ,  87.44465748,\n",
              "         76.46568122,   0.        ],\n",
              "       [139.85139333, 122.29257188, 106.93832061,  93.51184817,\n",
              "         81.77111534,  71.50447173]])"
            ]
          },
          "metadata": {},
          "execution_count": 29
        }
      ]
    },
    {
      "cell_type": "markdown",
      "source": [
        "### Harga Opsi Eropa"
      ],
      "metadata": {
        "id": "WZDyxZBkg1PV"
      }
    },
    {
      "cell_type": "code",
      "source": [
        "f_zeros_eropa = np.zeros((N+1,N+1))"
      ],
      "metadata": {
        "id": "DdxBgTSzevjq"
      },
      "execution_count": null,
      "outputs": []
    },
    {
      "cell_type": "code",
      "source": [
        "# mencari harga opsi pada langkah ke-T\n",
        "\n",
        "for j in range(0,N+1):\n",
        "  f_zeros_eropa[N,j] += max(X-s_zeros[N,j],0)"
      ],
      "metadata": {
        "id": "lipt01c2exlP"
      },
      "execution_count": null,
      "outputs": []
    },
    {
      "cell_type": "code",
      "source": [
        "f_zeros_eropa"
      ],
      "metadata": {
        "colab": {
          "base_uri": "https://localhost:8080/"
        },
        "id": "Adt_FQmc-fNE",
        "outputId": "9e8503bc-8837-4e1e-8295-1dcd83b449bc"
      },
      "execution_count": null,
      "outputs": [
        {
          "output_type": "execute_result",
          "data": {
            "text/plain": [
              "array([[ 0.        ,  0.        ,  0.        ,  0.        ,  0.        ,\n",
              "         0.        ],\n",
              "       [ 0.        ,  0.        ,  0.        ,  0.        ,  0.        ,\n",
              "         0.        ],\n",
              "       [ 0.        ,  0.        ,  0.        ,  0.        ,  0.        ,\n",
              "         0.        ],\n",
              "       [ 0.        ,  0.        ,  0.        ,  0.        ,  0.        ,\n",
              "         0.        ],\n",
              "       [ 0.        ,  0.        ,  0.        ,  0.        ,  0.        ,\n",
              "         0.        ],\n",
              "       [ 0.        ,  0.        ,  0.        ,  0.        ,  8.22888466,\n",
              "        18.49552827]])"
            ]
          },
          "metadata": {},
          "execution_count": 32
        }
      ]
    },
    {
      "cell_type": "code",
      "source": [
        "for i in range(N-1,0,-1):\n",
        "  for j in range(0,N):\n",
        "    if i >= j:\n",
        "      f_zeros_eropa[i,j] += np.exp(-1*r*delta_t)*(p*f_zeros_eropa[i+1,j]+(1-p)*f_zeros_eropa[i+1,j+1])"
      ],
      "metadata": {
        "id": "Bg_-Q_bifks4"
      },
      "execution_count": null,
      "outputs": []
    },
    {
      "cell_type": "code",
      "source": [
        "f_zeros_eropa"
      ],
      "metadata": {
        "colab": {
          "base_uri": "https://localhost:8080/"
        },
        "id": "8H0WrTOGf-A1",
        "outputId": "581992d3-7fc3-4e99-b63e-71581988391b"
      },
      "execution_count": null,
      "outputs": [
        {
          "output_type": "execute_result",
          "data": {
            "text/plain": [
              "array([[ 0.        ,  0.        ,  0.        ,  0.        ,  0.        ,\n",
              "         0.        ],\n",
              "       [ 0.26037338,  1.98368194,  0.        ,  0.        ,  0.        ,\n",
              "         0.        ],\n",
              "       [ 0.        ,  0.61735174,  3.87441466,  0.        ,  0.        ,\n",
              "         0.        ],\n",
              "       [ 0.        ,  0.        ,  1.4637563 ,  7.22088545,  0.        ,\n",
              "         0.        ],\n",
              "       [ 0.        ,  0.        ,  0.        ,  3.4706025 , 12.46077294,\n",
              "         0.        ],\n",
              "       [ 0.        ,  0.        ,  0.        ,  0.        ,  8.22888466,\n",
              "        18.49552827]])"
            ]
          },
          "metadata": {},
          "execution_count": 34
        }
      ]
    },
    {
      "cell_type": "code",
      "source": [
        "f_final_eropa = np.exp(-1*r*delta_t)*(p*f_zeros_eropa[1,1]+(1-p)*f_zeros_eropa[1,0])\n",
        "f_final_eropa"
      ],
      "metadata": {
        "colab": {
          "base_uri": "https://localhost:8080/"
        },
        "id": "gsUXDp7DgKvP",
        "outputId": "a13b3af4-5753-4df7-f8ed-a824a36a4d29"
      },
      "execution_count": null,
      "outputs": [
        {
          "output_type": "execute_result",
          "data": {
            "text/plain": [
              "1.2331998849660841"
            ]
          },
          "metadata": {},
          "execution_count": 35
        }
      ]
    },
    {
      "cell_type": "markdown",
      "source": [
        "### Harga Opsi Amerika"
      ],
      "metadata": {
        "id": "JM0vsia7CWX8"
      }
    },
    {
      "cell_type": "code",
      "source": [
        "f_zeros_amerika = np.zeros((N+1,N+1))"
      ],
      "metadata": {
        "id": "rk1L_kyKCWX9"
      },
      "execution_count": null,
      "outputs": []
    },
    {
      "cell_type": "code",
      "source": [
        "# mencari harga opsi pada langkah ke-T\n",
        "\n",
        "for j in range(0,N+1):\n",
        "  f_zeros_amerika[N,j] += max(X-s_zeros[N,j],0)"
      ],
      "metadata": {
        "id": "SSVAfycfCWX9"
      },
      "execution_count": null,
      "outputs": []
    },
    {
      "cell_type": "code",
      "source": [
        "f_zeros_amerika"
      ],
      "metadata": {
        "colab": {
          "base_uri": "https://localhost:8080/"
        },
        "id": "sYiIGoEBC8zV",
        "outputId": "f55b45c8-0cce-4e34-bb77-3fa729f1065f"
      },
      "execution_count": null,
      "outputs": [
        {
          "output_type": "execute_result",
          "data": {
            "text/plain": [
              "array([[ 0.        ,  0.        ,  0.        ,  0.        ,  0.        ,\n",
              "         0.        ],\n",
              "       [ 0.        ,  0.        ,  0.        ,  0.        ,  0.        ,\n",
              "         0.        ],\n",
              "       [ 0.        ,  0.        ,  0.        ,  0.        ,  0.        ,\n",
              "         0.        ],\n",
              "       [ 0.        ,  0.        ,  0.        ,  0.        ,  0.        ,\n",
              "         0.        ],\n",
              "       [ 0.        ,  0.        ,  0.        ,  0.        ,  0.        ,\n",
              "         0.        ],\n",
              "       [ 0.        ,  0.        ,  0.        ,  0.        ,  8.22888466,\n",
              "        18.49552827]])"
            ]
          },
          "metadata": {},
          "execution_count": 38
        }
      ]
    },
    {
      "cell_type": "code",
      "source": [
        "for i in range(N-1,0,-1):\n",
        "  for j in range(0,N):\n",
        "    if i >= j:\n",
        "      f_zeros_amerika[i,j] += max(X-s_zeros[i,j],np.exp(-1*r*delta_t)*(p*f_zeros_amerika[i+1,j]+(1-p)*f_zeros_amerika[i+1,j+1]))"
      ],
      "metadata": {
        "id": "ZnkUqlcQCWX-"
      },
      "execution_count": null,
      "outputs": []
    },
    {
      "cell_type": "code",
      "source": [
        "f_zeros_amerika"
      ],
      "metadata": {
        "colab": {
          "base_uri": "https://localhost:8080/"
        },
        "outputId": "574a3727-2911-4894-fe4c-18f57c6d3bb8",
        "id": "VAfIep0-CWX-"
      },
      "execution_count": null,
      "outputs": [
        {
          "output_type": "execute_result",
          "data": {
            "text/plain": [
              "array([[ 0.        ,  0.        ,  0.        ,  0.        ,  0.        ,\n",
              "         0.        ],\n",
              "       [ 0.26037338,  2.16298512,  0.        ,  0.        ,  0.        ,\n",
              "         0.        ],\n",
              "       [ 0.        ,  0.61735174,  4.29954695,  0.        ,  0.        ,\n",
              "         0.        ],\n",
              "       [ 0.        ,  0.        ,  1.4637563 ,  8.22888466,  0.        ,\n",
              "         0.        ],\n",
              "       [ 0.        ,  0.        ,  0.        ,  3.4706025 , 13.53431878,\n",
              "         0.        ],\n",
              "       [ 0.        ,  0.        ,  0.        ,  0.        ,  8.22888466,\n",
              "        18.49552827]])"
            ]
          },
          "metadata": {},
          "execution_count": 40
        }
      ]
    },
    {
      "cell_type": "code",
      "source": [
        "f_final_amerika = np.exp(-1*r*delta_t)*(p*f_zeros_amerika[1,1]+(1-p)*f_zeros_amerika[1,0])\n",
        "f_final_amerika"
      ],
      "metadata": {
        "colab": {
          "base_uri": "https://localhost:8080/"
        },
        "outputId": "4fbb5543-40f5-48fc-cfbf-fff3fd53db03",
        "id": "ds_ffekNCWX-"
      },
      "execution_count": null,
      "outputs": [
        {
          "output_type": "execute_result",
          "data": {
            "text/plain": [
              "1.3347416355272586"
            ]
          },
          "metadata": {},
          "execution_count": 41
        }
      ]
    }
  ]
}

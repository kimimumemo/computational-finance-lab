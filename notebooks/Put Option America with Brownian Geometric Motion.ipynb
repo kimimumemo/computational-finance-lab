{
  "nbformat": 4,
  "nbformat_minor": 0,
  "metadata": {
    "colab": {
      "name": "UAS Matematika Keuangan Nomor 4.ipynb",
      "provenance": [],
      "authorship_tag": "ABX9TyNMxSq4m1yFJboF0g3ylvPR",
      "include_colab_link": true
    },
    "kernelspec": {
      "name": "python3",
      "display_name": "Python 3"
    },
    "language_info": {
      "name": "python"
    }
  },
  "cells": [
    {
      "cell_type": "markdown",
      "metadata": {
        "id": "view-in-github",
        "colab_type": "text"
      },
      "source": [
        "<a href=\"https://colab.research.google.com/github/kimimumemo/Computational-Finance-/blob/main/Put%20Option%20America%20with%20Brownian%20Geometric%20Motion.ipynb\" target=\"_parent\"><img src=\"https://colab.research.google.com/assets/colab-badge.svg\" alt=\"Open In Colab\"/></a>"
      ]
    },
    {
      "cell_type": "code",
      "execution_count": null,
      "metadata": {
        "id": "aBA4dQ6kwkXc"
      },
      "outputs": [],
      "source": [
        "import numpy as np\n",
        "import pandas as pd\n",
        "import random\n",
        "import math\n",
        "import statistics\n",
        "import scipy\n",
        "import matplotlib.pyplot as plt\n",
        "from scipy.stats import norm"
      ]
    },
    {
      "cell_type": "markdown",
      "metadata": {
        "id": "aQ-wGkrIXaYu"
      },
      "source": [
        "\n",
        "[NOMOR 3, langkah=250]\n",
        "## Opsi *put* Amerika yang tidak membayarkan dividen dengan $𝑆_0=50$, $K=50$, $r=5\\%$ per tahun, dan $\\sigma=30\\%$ per tahun, dan $𝑇=1$ tahun. Gerak Brown Geometerik"
      ]
    },
    {
      "cell_type": "code",
      "source": [
        "# parameter\n",
        "s_0 = 50 # nilai awal\n",
        "mu = 0.05 # tingkat suku bunga bebas risiko (laju drift)\n",
        "sigma = 0.3 # volatilitas\n",
        "T = 1 # harga saham dalam T tahun\n",
        "n = 52 # periode waktu per tahun\n",
        "sum_tn = T*n\n",
        "delta_t = T/sum_tn\n",
        "sqrt_delta_t = math.sqrt(delta_t)\n",
        "\n",
        "mean, std = 0, 1 # mean and standar deviasi \n",
        "epsilon = np.random.normal(mean, std, sum_tn+1)\n",
        "# https://numpy.org/doc/1.21/reference/random/generated/numpy.random.normal.html"
      ],
      "metadata": {
        "id": "kAiL4Bto4qd8"
      },
      "execution_count": null,
      "outputs": []
    },
    {
      "cell_type": "code",
      "source": [
        "s_zeros = np.zeros(sum_tn+1)\n",
        "s_zeros[0] = s_0"
      ],
      "metadata": {
        "id": "KIU9vxq23kHA"
      },
      "execution_count": null,
      "outputs": []
    },
    {
      "cell_type": "code",
      "source": [
        "for i in range(1,sum_tn+1):\n",
        "  s_zeros[i] = np.exp(((mu-(sigma**2))/2)*delta_t+sigma*epsilon[i]*sqrt_delta_t) * s_zeros[i-1]"
      ],
      "metadata": {
        "id": "xOkoxkHI3vWJ"
      },
      "execution_count": null,
      "outputs": []
    },
    {
      "cell_type": "code",
      "source": [
        "s_zeros"
      ],
      "metadata": {
        "colab": {
          "base_uri": "https://localhost:8080/"
        },
        "id": "pe57LUPE4D0n",
        "outputId": "97233c03-582e-48c9-a167-8d42e1f07d67"
      },
      "execution_count": null,
      "outputs": [
        {
          "output_type": "execute_result",
          "data": {
            "text/plain": [
              "array([50.        , 50.42033969, 49.2197635 , 46.61035845, 44.93817781,\n",
              "       45.55731197, 43.58642773, 43.30420519, 39.77403184, 43.15513038,\n",
              "       45.37040689, 43.3964705 , 42.1103504 , 45.48272169, 47.12662532,\n",
              "       47.65552815, 48.76457213, 49.17842133, 48.45560248, 52.24577716,\n",
              "       53.58244227, 51.59655282, 56.96734125, 58.09677843, 57.60853121,\n",
              "       63.07887692, 64.38345465, 66.10916   , 62.80612605, 64.00148726,\n",
              "       63.91212434, 63.43360547, 62.13226982, 64.03206781, 60.72727537,\n",
              "       59.50845367, 60.40593094, 60.90203095, 60.68166403, 61.27240785,\n",
              "       63.72990414, 63.81083263, 65.41767191, 70.07610926, 66.6093386 ,\n",
              "       62.23557086, 62.14405294, 64.92547613, 61.94312886, 61.4617158 ,\n",
              "       58.80842707, 62.37860183, 64.49112302])"
            ]
          },
          "metadata": {},
          "execution_count": 41
        }
      ]
    },
    {
      "cell_type": "code",
      "source": [
        "plt.plot(range(sum_tn+1),s_zeros)\n",
        "plt.xlabel('Waktu (minggu)') # naming the x axis\n",
        "plt.ylabel('Harga ($)') # naming the y axis\n",
        "plt.title('Plot Pergerakan Harga Saham') # giving a title to my graph\n",
        "plt.show() # function to show the plot"
      ],
      "metadata": {
        "colab": {
          "base_uri": "https://localhost:8080/",
          "height": 295
        },
        "id": "QG1L25Aj30Zl",
        "outputId": "cc2e5ad3-4f6f-4ca4-f261-e625203dcdb1"
      },
      "execution_count": null,
      "outputs": [
        {
          "output_type": "display_data",
          "data": {
            "image/png": "[encoded data removed]",
            "text/plain": [
              "<Figure size 432x288 with 1 Axes>"
            ]
          },
          "metadata": {
            "needs_background": "light"
          }
        }
      ]
    }
  ]
}